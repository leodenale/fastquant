{
  "nbformat": 4,
  "nbformat_minor": 0,
  "metadata": {
    "kernelspec": {
      "display_name": "Python 3",
      "language": "python",
      "name": "python3"
    },
    "language_info": {
      "codemirror_mode": {
        "name": "ipython",
        "version": 3
      },
      "file_extension": ".py",
      "mimetype": "text/x-python",
      "name": "python",
      "nbconvert_exporter": "python",
      "pygments_lexer": "ipython3",
      "version": "3.8.2"
    },
    "toc": {
      "base_numbering": 1,
      "nav_menu": {},
      "number_sections": true,
      "sideBar": true,
      "skip_h1_title": false,
      "title_cell": "Table of Contents",
      "title_sidebar": "Contents",
      "toc_cell": false,
      "toc_position": {},
      "toc_section_display": true,
      "toc_window_display": false
    },
    "colab": {
      "name": "backtest_news_sentiment.ipynb",
      "provenance": [],
      "include_colab_link": true
    }
  },
  "cells": [
    {
      "cell_type": "markdown",
      "metadata": {
        "id": "view-in-github",
        "colab_type": "text"
      },
      "source": [
        "<a href=\"https://colab.research.google.com/github/leodenale/fastquant/blob/master/BRZ/BacktestNewsSentiment4Crypto.ipynb\" target=\"_parent\"><img src=\"https://colab.research.google.com/assets/colab-badge.svg\" alt=\"Open In Colab\"/></a>"
      ]
    },
    {
      "cell_type": "code",
      "metadata": {
        "id": "3ukpNDP8a9xZ",
        "colab_type": "code",
        "colab": {}
      },
      "source": [
        "# uncomment to install in colab\n",
        "# !pip install -e git+https://github.com/enzoampil/fastquant.git@master#egg=fastquant\n",
        "!pip install -e git+https://github.com/leodenale/fastquant.git@master#egg=fastquant"
      ],
      "execution_count": null,
      "outputs": []
    },
    {
      "cell_type": "markdown",
      "metadata": {
        "id": "SsX4RCzua9xe",
        "colab_type": "text"
      },
      "source": [
        "## fetch stock data from yahoo finance"
      ]
    },
    {
      "cell_type": "code",
      "metadata": {
        "id": "CZOkYG_Qa9xf",
        "colab_type": "code",
        "colab": {
          "base_uri": "https://localhost:8080/",
          "height": 527
        },
        "outputId": "dfa5a18d-8d5d-4e4f-c625-d9bf343d8d49"
      },
      "source": [
        "from fastquant import get_yahoo_data\n",
        "\n",
        "#TESLA=TSLA in yahoo finance \n",
        "data = get_yahoo_data(\"TSLA\", \"2020-01-01\", \"2020-07-04\")\n",
        "print(data.head())\n",
        "\n",
        "from fastquant import get_crypto_data\n",
        "crypto = get_crypto_data(\"BTC/USDT\", \"2020-01-01\", \"2020-07-04\")\n",
        "crypto.head()\n",
        "\n"
      ],
      "execution_count": 5,
      "outputs": [
        {
          "output_type": "stream",
          "text": [
            "\r[*********************100%***********************]  1 of 1 completed\n",
            "                  open        high  ...   adj_close    volume\n",
            "dt                                  ...                      \n",
            "2020-01-02  424.500000  430.700012  ...  430.260010   9532100\n",
            "2020-01-03  440.500000  454.000000  ...  443.010010  17778500\n",
            "2020-01-06  440.470001  451.559998  ...  451.540009  10133000\n",
            "2020-01-07  461.399994  471.630005  ...  469.059998  17882100\n",
            "2020-01-08  473.700012  498.489990  ...  492.140015  31144300\n",
            "\n",
            "[5 rows x 6 columns]\n"
          ],
          "name": "stdout"
        },
        {
          "output_type": "error",
          "ename": "ImportError",
          "evalue": "ignored",
          "traceback": [
            "\u001b[0;31m---------------------------------------------------------------------------\u001b[0m",
            "\u001b[0;31mImportError\u001b[0m                               Traceback (most recent call last)",
            "\u001b[0;32m<ipython-input-5-f209a78f0b0f>\u001b[0m in \u001b[0;36m<module>\u001b[0;34m()\u001b[0m\n\u001b[1;32m      5\u001b[0m \u001b[0mprint\u001b[0m\u001b[0;34m(\u001b[0m\u001b[0mdata\u001b[0m\u001b[0;34m.\u001b[0m\u001b[0mhead\u001b[0m\u001b[0;34m(\u001b[0m\u001b[0;34m)\u001b[0m\u001b[0;34m)\u001b[0m\u001b[0;34m\u001b[0m\u001b[0;34m\u001b[0m\u001b[0m\n\u001b[1;32m      6\u001b[0m \u001b[0;34m\u001b[0m\u001b[0m\n\u001b[0;32m----> 7\u001b[0;31m \u001b[0;32mfrom\u001b[0m \u001b[0mfastquant\u001b[0m \u001b[0;32mimport\u001b[0m \u001b[0mget_crypto_data\u001b[0m\u001b[0;34m\u001b[0m\u001b[0;34m\u001b[0m\u001b[0m\n\u001b[0m\u001b[1;32m      8\u001b[0m \u001b[0mcrypto\u001b[0m \u001b[0;34m=\u001b[0m \u001b[0mget_crypto_data\u001b[0m\u001b[0;34m(\u001b[0m\u001b[0;34m\"BTC/USDT\"\u001b[0m\u001b[0;34m,\u001b[0m \u001b[0;34m\"2020-01-01\"\u001b[0m\u001b[0;34m,\u001b[0m \u001b[0;34m\"2020-07-04\"\u001b[0m\u001b[0;34m)\u001b[0m\u001b[0;34m\u001b[0m\u001b[0;34m\u001b[0m\u001b[0m\n\u001b[1;32m      9\u001b[0m \u001b[0mcrypto\u001b[0m\u001b[0;34m.\u001b[0m\u001b[0mhead\u001b[0m\u001b[0;34m(\u001b[0m\u001b[0;34m)\u001b[0m\u001b[0;34m\u001b[0m\u001b[0;34m\u001b[0m\u001b[0m\n",
            "\u001b[0;31mImportError\u001b[0m: cannot import name 'get_crypto_data'",
            "",
            "\u001b[0;31m---------------------------------------------------------------------------\u001b[0;32m\nNOTE: If your import is failing due to a missing package, you can\nmanually install dependencies using either !pip or !apt.\n\nTo view examples of installing some common dependencies, click the\n\"Open Examples\" button below.\n\u001b[0;31m---------------------------------------------------------------------------\u001b[0m\n"
          ]
        }
      ]
    },
    {
      "cell_type": "markdown",
      "metadata": {
        "id": "3FNQzEl1a9xk",
        "colab_type": "text"
      },
      "source": [
        "## scrape news from business times website and compute sentiment"
      ]
    },
    {
      "cell_type": "code",
      "metadata": {
        "id": "29R3v6y2a9xl",
        "colab_type": "code",
        "colab": {
          "base_uri": "https://localhost:8080/",
          "height": 533
        },
        "outputId": "b03e1649-e87e-4f79-f859-e1e00465bfd3"
      },
      "source": [
        "from fastquant import get_bt_news_sentiment\n",
        "\n",
        "#scrape the first 3 pages of https://www.businesstimes.com.sg/search/bitcoin?page=1&filter=headline_en\n",
        "sentiments = get_bt_news_sentiment(keyword=\"bitcoin\", page_nums=3)\n",
        "sentiments"
      ],
      "execution_count": 2,
      "outputs": [
        {
          "output_type": "stream",
          "text": [
            "100%|██████████| 3/3 [02:02<00:00, 38.48s/it]\n"
          ],
          "name": "stderr"
        },
        {
          "output_type": "execute_result",
          "data": {
            "text/plain": [
              "{datetime.date(2019, 9, 24): 0.671,\n",
              " datetime.date(2019, 10, 16): 0.932,\n",
              " datetime.date(2019, 10, 27): 0.922,\n",
              " datetime.date(2019, 10, 30): 0.603,\n",
              " datetime.date(2019, 10, 31): 0.603,\n",
              " datetime.date(2019, 11, 5): -0.955,\n",
              " datetime.date(2019, 11, 7): 0.77,\n",
              " datetime.date(2019, 11, 23): 0.943,\n",
              " datetime.date(2019, 11, 24): -0.944,\n",
              " datetime.date(2019, 11, 27): -0.909,\n",
              " datetime.date(2019, 12, 25): -0.934,\n",
              " datetime.date(2020, 1, 2): -0.275,\n",
              " datetime.date(2020, 1, 22): -0.331,\n",
              " datetime.date(2020, 1, 26): -0.92,\n",
              " datetime.date(2020, 1, 31): -0.962,\n",
              " datetime.date(2020, 2, 21): -0.315,\n",
              " datetime.date(2020, 3, 4): -0.898,\n",
              " datetime.date(2020, 4, 26): 0.947,\n",
              " datetime.date(2020, 4, 30): -0.772,\n",
              " datetime.date(2020, 5, 7): 0.993,\n",
              " datetime.date(2020, 5, 9): 0.984,\n",
              " datetime.date(2020, 5, 14): 0.893,\n",
              " datetime.date(2020, 6, 6): 0.991,\n",
              " datetime.date(2020, 6, 7): 0.968,\n",
              " datetime.date(2020, 6, 16): 0.37,\n",
              " datetime.date(2020, 6, 24): -0.976,\n",
              " datetime.date(2020, 7, 1): 0.965,\n",
              " datetime.date(2020, 7, 28): 0.946,\n",
              " datetime.date(2020, 7, 31): -0.958,\n",
              " datetime.date(2020, 8, 13): 0.997}"
            ]
          },
          "metadata": {
            "tags": []
          },
          "execution_count": 2
        }
      ]
    },
    {
      "cell_type": "markdown",
      "metadata": {
        "id": "HU3Ob5Oza9xp",
        "colab_type": "text"
      },
      "source": [
        "## run backtest"
      ]
    },
    {
      "cell_type": "code",
      "metadata": {
        "id": "W-XhQsxZa9xq",
        "colab_type": "code",
        "colab": {}
      },
      "source": [
        "import matplotlib.pyplot as pl\n",
        "pl.style.use(\"default\")"
      ],
      "execution_count": 3,
      "outputs": []
    },
    {
      "cell_type": "code",
      "metadata": {
        "id": "MODrfod1a9xu",
        "colab_type": "code",
        "colab": {
          "base_uri": "https://localhost:8080/",
          "height": 194
        },
        "outputId": "bfebc04b-fc0d-4f3c-9e4f-8464b48a5afa"
      },
      "source": [
        "from fastquant import backtest\n",
        "\n",
        "#initiate buy/sell if senti>0.2/senti<-0.2\n",
        "backtest(\"sentiment\", data, sentiments=sentiments, senti=0.2)"
      ],
      "execution_count": 4,
      "outputs": [
        {
          "output_type": "error",
          "ename": "NameError",
          "evalue": "ignored",
          "traceback": [
            "\u001b[0;31m---------------------------------------------------------------------------\u001b[0m",
            "\u001b[0;31mNameError\u001b[0m                                 Traceback (most recent call last)",
            "\u001b[0;32m<ipython-input-4-41e1ea281d07>\u001b[0m in \u001b[0;36m<module>\u001b[0;34m()\u001b[0m\n\u001b[1;32m      2\u001b[0m \u001b[0;34m\u001b[0m\u001b[0m\n\u001b[1;32m      3\u001b[0m \u001b[0;31m#initiate buy/sell if senti>0.2/senti<-0.2\u001b[0m\u001b[0;34m\u001b[0m\u001b[0;34m\u001b[0m\u001b[0;34m\u001b[0m\u001b[0m\n\u001b[0;32m----> 4\u001b[0;31m \u001b[0mbacktest\u001b[0m\u001b[0;34m(\u001b[0m\u001b[0;34m\"sentiment\"\u001b[0m\u001b[0;34m,\u001b[0m \u001b[0mdata\u001b[0m\u001b[0;34m,\u001b[0m \u001b[0msentiments\u001b[0m\u001b[0;34m=\u001b[0m\u001b[0msentiments\u001b[0m\u001b[0;34m,\u001b[0m \u001b[0msenti\u001b[0m\u001b[0;34m=\u001b[0m\u001b[0;36m0.2\u001b[0m\u001b[0;34m)\u001b[0m\u001b[0;34m\u001b[0m\u001b[0;34m\u001b[0m\u001b[0m\n\u001b[0m",
            "\u001b[0;31mNameError\u001b[0m: name 'data' is not defined"
          ]
        }
      ]
    },
    {
      "cell_type": "code",
      "metadata": {
        "id": "taryItJza9x0",
        "colab_type": "code",
        "colab": {}
      },
      "source": [
        ""
      ],
      "execution_count": null,
      "outputs": []
    }
  ]
}